{
 "cells": [
  {
   "cell_type": "code",
   "execution_count": null,
   "id": "afb5609e",
   "metadata": {},
   "outputs": [],
   "source": [
    "import subprocess\n",
    "import math\n",
    "import numpy as np\n",
    "import matplotlib.pyplot as plt"
   ]
  },
  {
   "cell_type": "code",
   "execution_count": null,
   "id": "d283ad60",
   "metadata": {},
   "outputs": [],
   "source": [
    "def split_output(output):\n",
    "    cnt, prey, predator, berry = [], [], [], []\n",
    "\n",
    "    for line in output.strip().split(\"\\n\"):\n",
    "        a, b, c, d = map(int, line.split())\n",
    "        cnt.append(a)\n",
    "        prey.append(b)\n",
    "        predator.append(c)\n",
    "        berry.append(d)\n",
    "\n",
    "    cnt = np.array(cnt)\n",
    "    prey = np.array(prey)\n",
    "    predator = np.array(predator)\n",
    "    berry = np.array(berry)\n",
    "\n",
    "    return cnt, prey, predator, berry"
   ]
  },
  {
   "cell_type": "code",
   "execution_count": null,
   "id": "b64b81ca",
   "metadata": {},
   "outputs": [],
   "source": [
    "from pathlib import Path\n",
    "\n",
    "\n",
    "# Make sure Callable.java is compiled\n",
    "def simulate(\n",
    "    reproduction_type=\"FOOD\",\n",
    "    step_count=2000,\n",
    "    starting_prey=200,\n",
    "    starting_predator=20,\n",
    "    starting_berry=0,\n",
    "    max_berry=500,\n",
    "    berry_value=50,\n",
    "    prey_value=50,\n",
    "    prey_starting_energy=50,\n",
    "    predator_starting_energy=50,\n",
    "    prey_starvation=2,\n",
    "    predator_starvation=2,\n",
    "    prey_step_energy=0,\n",
    "    predator_step_energy=0,\n",
    "    # In low-fidelity animals eat in an area of 2500, we want the same here with a circle\n",
    "    eating_radius=math.sqrt(2500 / math.pi),\n",
    "    predator_eating_probability=1,\n",
    "    prey_reproduction_energy_threshold=100,\n",
    "    predator_reproduction_energy_threshold=100,\n",
    "    prey_reproduction_probability=1,\n",
    "    predator_reproduction_probability=1,\n",
    "    speed=80,\n",
    "    prey_spawn_rate=0.05,\n",
    "    predator_spawn_rate=0.05,\n",
    "    berry_spawn_rate=10,\n",
    "    simulation_timestep=0.5,\n",
    "):\n",
    "    path_to_out = Path.cwd().parent.parent / \"out\"  # Change it according to your IDE settings\n",
    "    command = (\n",
    "        f\"java -cp {path_to_out}/ PyInterface.Callable \"\n",
    "        f\"{reproduction_type} \"\n",
    "        f\"{step_count} \"\n",
    "        f\"{starting_prey} \"\n",
    "        f\"{starting_predator} \"\n",
    "        f\"{starting_berry} \"\n",
    "        f\"{max_berry} \"\n",
    "        f\"{berry_value} \"\n",
    "        f\"{prey_value} \"\n",
    "        f\"{prey_starting_energy} \"\n",
    "        f\"{predator_starting_energy} \"\n",
    "        f\"{prey_starvation} \"\n",
    "        f\"{predator_starvation} \"\n",
    "        f\"{prey_step_energy} \"\n",
    "        f\"{predator_step_energy} \"\n",
    "        f\"{eating_radius} \"\n",
    "        f\"{predator_eating_probability} \"\n",
    "        f\"{prey_reproduction_energy_threshold} \"\n",
    "        f\"{predator_reproduction_energy_threshold} \"\n",
    "        f\"{prey_reproduction_probability} \"\n",
    "        f\"{predator_reproduction_probability} \"\n",
    "        f\"{speed} \"\n",
    "        f\"{prey_spawn_rate} \"\n",
    "        f\"{predator_spawn_rate} \"\n",
    "        f\"{berry_spawn_rate} \"\n",
    "        f\"{simulation_timestep}\"\n",
    "    )\n",
    "    print(command)\n",
    "\n",
    "    process = subprocess.Popen(\n",
    "        command, shell=True, stdin=subprocess.PIPE, stdout=subprocess.PIPE, stderr=subprocess.PIPE\n",
    "    )\n",
    "    stdout, stderr = process.communicate()\n",
    "    print(stderr)\n",
    "    return split_output(stdout.decode())"
   ]
  },
  {
   "cell_type": "code",
   "execution_count": null,
   "id": "602ceb20-7092-4bb4-afd0-bed2a350fd7b",
   "metadata": {},
   "outputs": [],
   "source": [
    "def plot_populations(prey, predator):\n",
    "    cnt = np.arange(0, prey.size)\n",
    "    plt.figure(figsize=(8, 5))\n",
    "    plt.plot(cnt, prey, label=\"Prey count\")\n",
    "    plt.plot(cnt, predator, label=\"Predator count\")\n",
    "    # plt.plot(cnt, berry, label='Berry Count')\n",
    "\n",
    "    plt.title(\"Simulation\")\n",
    "    plt.xlabel(\"Time\")\n",
    "    plt.ylabel(\"Number of species\")\n",
    "\n",
    "    plt.legend()\n",
    "\n",
    "    plt.show()"
   ]
  },
  {
   "cell_type": "code",
   "execution_count": null,
   "id": "2f772ccf-9c1a-4732-8367-2170eac96049",
   "metadata": {},
   "outputs": [],
   "source": [
    "cnt, prey, predator, berry = simulate(predator_eating_probability=0.1)"
   ]
  },
  {
   "cell_type": "code",
   "execution_count": null,
   "id": "53110f90-59af-4bf5-be75-4f47a20d66e6",
   "metadata": {},
   "outputs": [],
   "source": [
    "plot_populations(prey, predator)"
   ]
  },
  {
   "cell_type": "code",
   "execution_count": null,
   "id": "a8dd3d6c-cc9e-4746-959c-a5bb38d5b5b3",
   "metadata": {},
   "outputs": [],
   "source": []
  }
 ],
 "metadata": {
  "kernelspec": {
   "display_name": "Python 3 (ipykernel)",
   "language": "python",
   "name": "python3"
  },
  "language_info": {
   "codemirror_mode": {
    "name": "ipython",
    "version": 3
   },
   "file_extension": ".py",
   "mimetype": "text/x-python",
   "name": "python",
   "nbconvert_exporter": "python",
   "pygments_lexer": "ipython3",
   "version": "3.11.6"
  }
 },
 "nbformat": 4,
 "nbformat_minor": 5
}
